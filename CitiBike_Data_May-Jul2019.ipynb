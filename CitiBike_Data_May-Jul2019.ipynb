{
 "cells": [
  {
   "cell_type": "code",
   "execution_count": null,
   "metadata": {},
   "outputs": [],
   "source": [
    "# Dependencies\n",
    "import pandas as pd\n",
    "import numpy as np\n",
    "import glob"
   ]
  },
  {
   "cell_type": "code",
   "execution_count": 34,
   "metadata": {},
   "outputs": [
    {
     "output_type": "execute_result",
     "data": {
      "text/plain": "        index  tripduration                 starttime  \\\n0           0           311  2019-05-01 00:07:36.4670   \n1           1           538  2019-05-01 00:08:29.2840   \n2           2           178  2019-05-01 00:39:36.4750   \n3           3           317  2019-05-01 01:24:28.0220   \n4           4           354  2019-05-01 01:54:39.6660   \n...       ...           ...                       ...   \n119306  43741           673  2019-07-31 23:39:13.1800   \n119307  43742           161  2019-07-31 23:41:24.1110   \n119308  43743           310  2019-07-31 23:47:27.3940   \n119309  43744           137  2019-07-31 23:59:29.9300   \n119310  43745           463  2019-07-31 23:59:54.9470   \n\n                        stoptime  start station id start station name  \\\n0       2019-05-01 00:12:47.6350              3185          City Hall   \n1       2019-05-01 00:17:27.9410              3681           Grand St   \n2       2019-05-01 00:42:34.9640              3638      Washington St   \n3       2019-05-01 01:29:45.5730              3206            Hilltop   \n4       2019-05-01 02:00:34.1750              3639         Harborside   \n...                          ...               ...                ...   \n119306  2019-07-31 23:50:26.6520              3681           Grand St   \n119307  2019-07-31 23:44:05.4090              3211         Newark Ave   \n119308  2019-07-31 23:52:37.4870              3195            Sip Ave   \n119309  2019-08-01 00:01:47.1970              3199       Newport Pkwy   \n119310  2019-08-01 00:07:37.9750              3199       Newport Pkwy   \n\n        start station latitude  start station longitude  end station id  \\\n0                    40.717733               -74.043845            3279   \n1                    40.715178               -74.037683            3203   \n2                    40.724294               -74.035483            3639   \n3                    40.731169               -74.057574            3212   \n4                    40.719252               -74.034234            3202   \n...                        ...                      ...             ...   \n119306               40.715178               -74.037683            3277   \n119307               40.721525               -74.046305            3203   \n119308               40.730897               -74.063913            3678   \n119309               40.728745               -74.032108            3638   \n119310               40.728745               -74.032108            3203   \n\n               end station name  end station latitude  end station longitude  \\\n0                   Dixon Mills             40.721630             -74.049968   \n1                 Hamilton Park             40.727596             -74.044247   \n2                    Harborside             40.719252             -74.034234   \n3               Christ Hospital             40.734786             -74.050444   \n4                  Newport PATH             40.727224             -74.033759   \n...                         ...                   ...                    ...   \n119306  Communipaw & Berry Lane             40.714358             -74.066611   \n119307            Hamilton Park             40.727596             -74.044247   \n119308            Fairmount Ave             40.725726             -74.071959   \n119309            Washington St             40.724294             -74.035483   \n119310            Hamilton Park             40.727596             -74.044247   \n\n        bikeid    usertype  birth year  gender  \n0        29224  Subscriber        1988       1  \n1        26170  Subscriber        1974       1  \n2        29517  Subscriber        1988       1  \n3        29606  Subscriber        1986       2  \n4        26224    Customer        1986       2  \n...        ...         ...         ...     ...  \n119306   26284  Subscriber        1987       1  \n119307   29570  Subscriber        1998       1  \n119308   26237  Subscriber        1977       1  \n119309   29121  Subscriber        1993       1  \n119310   29259  Subscriber        1988       1  \n\n[119311 rows x 16 columns]",
      "text/html": "<div>\n<style scoped>\n    .dataframe tbody tr th:only-of-type {\n        vertical-align: middle;\n    }\n\n    .dataframe tbody tr th {\n        vertical-align: top;\n    }\n\n    .dataframe thead th {\n        text-align: right;\n    }\n</style>\n<table border=\"1\" class=\"dataframe\">\n  <thead>\n    <tr style=\"text-align: right;\">\n      <th></th>\n      <th>index</th>\n      <th>tripduration</th>\n      <th>starttime</th>\n      <th>stoptime</th>\n      <th>start station id</th>\n      <th>start station name</th>\n      <th>start station latitude</th>\n      <th>start station longitude</th>\n      <th>end station id</th>\n      <th>end station name</th>\n      <th>end station latitude</th>\n      <th>end station longitude</th>\n      <th>bikeid</th>\n      <th>usertype</th>\n      <th>birth year</th>\n      <th>gender</th>\n    </tr>\n  </thead>\n  <tbody>\n    <tr>\n      <td>0</td>\n      <td>0</td>\n      <td>311</td>\n      <td>2019-05-01 00:07:36.4670</td>\n      <td>2019-05-01 00:12:47.6350</td>\n      <td>3185</td>\n      <td>City Hall</td>\n      <td>40.717733</td>\n      <td>-74.043845</td>\n      <td>3279</td>\n      <td>Dixon Mills</td>\n      <td>40.721630</td>\n      <td>-74.049968</td>\n      <td>29224</td>\n      <td>Subscriber</td>\n      <td>1988</td>\n      <td>1</td>\n    </tr>\n    <tr>\n      <td>1</td>\n      <td>1</td>\n      <td>538</td>\n      <td>2019-05-01 00:08:29.2840</td>\n      <td>2019-05-01 00:17:27.9410</td>\n      <td>3681</td>\n      <td>Grand St</td>\n      <td>40.715178</td>\n      <td>-74.037683</td>\n      <td>3203</td>\n      <td>Hamilton Park</td>\n      <td>40.727596</td>\n      <td>-74.044247</td>\n      <td>26170</td>\n      <td>Subscriber</td>\n      <td>1974</td>\n      <td>1</td>\n    </tr>\n    <tr>\n      <td>2</td>\n      <td>2</td>\n      <td>178</td>\n      <td>2019-05-01 00:39:36.4750</td>\n      <td>2019-05-01 00:42:34.9640</td>\n      <td>3638</td>\n      <td>Washington St</td>\n      <td>40.724294</td>\n      <td>-74.035483</td>\n      <td>3639</td>\n      <td>Harborside</td>\n      <td>40.719252</td>\n      <td>-74.034234</td>\n      <td>29517</td>\n      <td>Subscriber</td>\n      <td>1988</td>\n      <td>1</td>\n    </tr>\n    <tr>\n      <td>3</td>\n      <td>3</td>\n      <td>317</td>\n      <td>2019-05-01 01:24:28.0220</td>\n      <td>2019-05-01 01:29:45.5730</td>\n      <td>3206</td>\n      <td>Hilltop</td>\n      <td>40.731169</td>\n      <td>-74.057574</td>\n      <td>3212</td>\n      <td>Christ Hospital</td>\n      <td>40.734786</td>\n      <td>-74.050444</td>\n      <td>29606</td>\n      <td>Subscriber</td>\n      <td>1986</td>\n      <td>2</td>\n    </tr>\n    <tr>\n      <td>4</td>\n      <td>4</td>\n      <td>354</td>\n      <td>2019-05-01 01:54:39.6660</td>\n      <td>2019-05-01 02:00:34.1750</td>\n      <td>3639</td>\n      <td>Harborside</td>\n      <td>40.719252</td>\n      <td>-74.034234</td>\n      <td>3202</td>\n      <td>Newport PATH</td>\n      <td>40.727224</td>\n      <td>-74.033759</td>\n      <td>26224</td>\n      <td>Customer</td>\n      <td>1986</td>\n      <td>2</td>\n    </tr>\n    <tr>\n      <td>...</td>\n      <td>...</td>\n      <td>...</td>\n      <td>...</td>\n      <td>...</td>\n      <td>...</td>\n      <td>...</td>\n      <td>...</td>\n      <td>...</td>\n      <td>...</td>\n      <td>...</td>\n      <td>...</td>\n      <td>...</td>\n      <td>...</td>\n      <td>...</td>\n      <td>...</td>\n      <td>...</td>\n    </tr>\n    <tr>\n      <td>119306</td>\n      <td>43741</td>\n      <td>673</td>\n      <td>2019-07-31 23:39:13.1800</td>\n      <td>2019-07-31 23:50:26.6520</td>\n      <td>3681</td>\n      <td>Grand St</td>\n      <td>40.715178</td>\n      <td>-74.037683</td>\n      <td>3277</td>\n      <td>Communipaw &amp; Berry Lane</td>\n      <td>40.714358</td>\n      <td>-74.066611</td>\n      <td>26284</td>\n      <td>Subscriber</td>\n      <td>1987</td>\n      <td>1</td>\n    </tr>\n    <tr>\n      <td>119307</td>\n      <td>43742</td>\n      <td>161</td>\n      <td>2019-07-31 23:41:24.1110</td>\n      <td>2019-07-31 23:44:05.4090</td>\n      <td>3211</td>\n      <td>Newark Ave</td>\n      <td>40.721525</td>\n      <td>-74.046305</td>\n      <td>3203</td>\n      <td>Hamilton Park</td>\n      <td>40.727596</td>\n      <td>-74.044247</td>\n      <td>29570</td>\n      <td>Subscriber</td>\n      <td>1998</td>\n      <td>1</td>\n    </tr>\n    <tr>\n      <td>119308</td>\n      <td>43743</td>\n      <td>310</td>\n      <td>2019-07-31 23:47:27.3940</td>\n      <td>2019-07-31 23:52:37.4870</td>\n      <td>3195</td>\n      <td>Sip Ave</td>\n      <td>40.730897</td>\n      <td>-74.063913</td>\n      <td>3678</td>\n      <td>Fairmount Ave</td>\n      <td>40.725726</td>\n      <td>-74.071959</td>\n      <td>26237</td>\n      <td>Subscriber</td>\n      <td>1977</td>\n      <td>1</td>\n    </tr>\n    <tr>\n      <td>119309</td>\n      <td>43744</td>\n      <td>137</td>\n      <td>2019-07-31 23:59:29.9300</td>\n      <td>2019-08-01 00:01:47.1970</td>\n      <td>3199</td>\n      <td>Newport Pkwy</td>\n      <td>40.728745</td>\n      <td>-74.032108</td>\n      <td>3638</td>\n      <td>Washington St</td>\n      <td>40.724294</td>\n      <td>-74.035483</td>\n      <td>29121</td>\n      <td>Subscriber</td>\n      <td>1993</td>\n      <td>1</td>\n    </tr>\n    <tr>\n      <td>119310</td>\n      <td>43745</td>\n      <td>463</td>\n      <td>2019-07-31 23:59:54.9470</td>\n      <td>2019-08-01 00:07:37.9750</td>\n      <td>3199</td>\n      <td>Newport Pkwy</td>\n      <td>40.728745</td>\n      <td>-74.032108</td>\n      <td>3203</td>\n      <td>Hamilton Park</td>\n      <td>40.727596</td>\n      <td>-74.044247</td>\n      <td>29259</td>\n      <td>Subscriber</td>\n      <td>1988</td>\n      <td>1</td>\n    </tr>\n  </tbody>\n</table>\n<p>119311 rows × 16 columns</p>\n</div>"
     },
     "metadata": {},
     "execution_count": 34
    }
   ],
   "source": [
    "#NY CitiBike 3 Month May-Jul 2019\n",
    "Data_CitiBike_NY = glob.glob(\"./Data/NY/*.csv\") \n",
    "NY_df = pd.concat((pd.read_csv(f, header = 0) for f in Data_CitiBike_NY)).reset_index()\n",
    "NY_df"
   ]
  },
  {
   "cell_type": "code",
   "execution_count": 35,
   "metadata": {},
   "outputs": [
    {
     "output_type": "execute_result",
     "data": {
      "text/plain": "        index  tripduration                 starttime  \\\n119306  43741           673  2019-07-31 23:39:13.1800   \n119307  43742           161  2019-07-31 23:41:24.1110   \n119308  43743           310  2019-07-31 23:47:27.3940   \n119309  43744           137  2019-07-31 23:59:29.9300   \n119310  43745           463  2019-07-31 23:59:54.9470   \n\n                        stoptime  start station id start station name  \\\n119306  2019-07-31 23:50:26.6520              3681           Grand St   \n119307  2019-07-31 23:44:05.4090              3211         Newark Ave   \n119308  2019-07-31 23:52:37.4870              3195            Sip Ave   \n119309  2019-08-01 00:01:47.1970              3199       Newport Pkwy   \n119310  2019-08-01 00:07:37.9750              3199       Newport Pkwy   \n\n        start station latitude  start station longitude  end station id  \\\n119306               40.715178               -74.037683            3277   \n119307               40.721525               -74.046305            3203   \n119308               40.730897               -74.063913            3678   \n119309               40.728745               -74.032108            3638   \n119310               40.728745               -74.032108            3203   \n\n               end station name  end station latitude  end station longitude  \\\n119306  Communipaw & Berry Lane             40.714358             -74.066611   \n119307            Hamilton Park             40.727596             -74.044247   \n119308            Fairmount Ave             40.725726             -74.071959   \n119309            Washington St             40.724294             -74.035483   \n119310            Hamilton Park             40.727596             -74.044247   \n\n        bikeid    usertype  birth year Gender distance  \n119306   26284  Subscriber        1987   Male           \n119307   29570  Subscriber        1998   Male           \n119308   26237  Subscriber        1977   Male           \n119309   29121  Subscriber        1993   Male           \n119310   29259  Subscriber        1988   Male           ",
      "text/html": "<div>\n<style scoped>\n    .dataframe tbody tr th:only-of-type {\n        vertical-align: middle;\n    }\n\n    .dataframe tbody tr th {\n        vertical-align: top;\n    }\n\n    .dataframe thead th {\n        text-align: right;\n    }\n</style>\n<table border=\"1\" class=\"dataframe\">\n  <thead>\n    <tr style=\"text-align: right;\">\n      <th></th>\n      <th>index</th>\n      <th>tripduration</th>\n      <th>starttime</th>\n      <th>stoptime</th>\n      <th>start station id</th>\n      <th>start station name</th>\n      <th>start station latitude</th>\n      <th>start station longitude</th>\n      <th>end station id</th>\n      <th>end station name</th>\n      <th>end station latitude</th>\n      <th>end station longitude</th>\n      <th>bikeid</th>\n      <th>usertype</th>\n      <th>birth year</th>\n      <th>Gender</th>\n      <th>distance</th>\n    </tr>\n  </thead>\n  <tbody>\n    <tr>\n      <td>119306</td>\n      <td>43741</td>\n      <td>673</td>\n      <td>2019-07-31 23:39:13.1800</td>\n      <td>2019-07-31 23:50:26.6520</td>\n      <td>3681</td>\n      <td>Grand St</td>\n      <td>40.715178</td>\n      <td>-74.037683</td>\n      <td>3277</td>\n      <td>Communipaw &amp; Berry Lane</td>\n      <td>40.714358</td>\n      <td>-74.066611</td>\n      <td>26284</td>\n      <td>Subscriber</td>\n      <td>1987</td>\n      <td>Male</td>\n      <td></td>\n    </tr>\n    <tr>\n      <td>119307</td>\n      <td>43742</td>\n      <td>161</td>\n      <td>2019-07-31 23:41:24.1110</td>\n      <td>2019-07-31 23:44:05.4090</td>\n      <td>3211</td>\n      <td>Newark Ave</td>\n      <td>40.721525</td>\n      <td>-74.046305</td>\n      <td>3203</td>\n      <td>Hamilton Park</td>\n      <td>40.727596</td>\n      <td>-74.044247</td>\n      <td>29570</td>\n      <td>Subscriber</td>\n      <td>1998</td>\n      <td>Male</td>\n      <td></td>\n    </tr>\n    <tr>\n      <td>119308</td>\n      <td>43743</td>\n      <td>310</td>\n      <td>2019-07-31 23:47:27.3940</td>\n      <td>2019-07-31 23:52:37.4870</td>\n      <td>3195</td>\n      <td>Sip Ave</td>\n      <td>40.730897</td>\n      <td>-74.063913</td>\n      <td>3678</td>\n      <td>Fairmount Ave</td>\n      <td>40.725726</td>\n      <td>-74.071959</td>\n      <td>26237</td>\n      <td>Subscriber</td>\n      <td>1977</td>\n      <td>Male</td>\n      <td></td>\n    </tr>\n    <tr>\n      <td>119309</td>\n      <td>43744</td>\n      <td>137</td>\n      <td>2019-07-31 23:59:29.9300</td>\n      <td>2019-08-01 00:01:47.1970</td>\n      <td>3199</td>\n      <td>Newport Pkwy</td>\n      <td>40.728745</td>\n      <td>-74.032108</td>\n      <td>3638</td>\n      <td>Washington St</td>\n      <td>40.724294</td>\n      <td>-74.035483</td>\n      <td>29121</td>\n      <td>Subscriber</td>\n      <td>1993</td>\n      <td>Male</td>\n      <td></td>\n    </tr>\n    <tr>\n      <td>119310</td>\n      <td>43745</td>\n      <td>463</td>\n      <td>2019-07-31 23:59:54.9470</td>\n      <td>2019-08-01 00:07:37.9750</td>\n      <td>3199</td>\n      <td>Newport Pkwy</td>\n      <td>40.728745</td>\n      <td>-74.032108</td>\n      <td>3203</td>\n      <td>Hamilton Park</td>\n      <td>40.727596</td>\n      <td>-74.044247</td>\n      <td>29259</td>\n      <td>Subscriber</td>\n      <td>1988</td>\n      <td>Male</td>\n      <td></td>\n    </tr>\n  </tbody>\n</table>\n</div>"
     },
     "metadata": {},
     "execution_count": 35
    }
   ],
   "source": [
    "\n",
    "NY_df['Gender'] = NY_df['gender'].replace([0,1,2],['Unknown',\"Male\",\"Female\"])\n",
    "NY_df = NY_df.drop('gender',1)\n",
    "NY_df[\"distance\"] = ''\n",
    "NY_df.tail()"
   ]
  },
  {
   "cell_type": "code",
   "execution_count": 39,
   "metadata": {},
   "outputs": [],
   "source": [
    "#import geopy.distance\n",
    "#import vincenty\n",
    "#for index, row in NY_df.iterrows():\n",
    "#    Station_Start = (row['start station latitude'],row['start station longitude'])\n",
    "#    Station_End = (row['end station latitude'],row['end station longitude'])\n",
    "#    NY_df.set_value(index,'distance',geopy.distance.vincenty(Station_Start, Station_End).miles)\n",
    "#NY_df.tail()"
   ]
  },
  {
   "cell_type": "code",
   "execution_count": 33,
   "metadata": {},
   "outputs": [
    {
     "output_type": "execute_result",
     "data": {
      "text/plain": "        Duration           Start date             End date  \\\n0            653  2019-05-01 00:00:02  2019-05-01 00:10:55   \n1            297  2019-05-01 00:00:13  2019-05-01 00:05:11   \n2            129  2019-05-01 00:00:36  2019-05-01 00:02:46   \n3           1119  2019-05-01 00:01:08  2019-05-01 00:19:48   \n4            533  2019-05-01 00:01:20  2019-05-01 00:10:13   \n...          ...                  ...                  ...   \n356640      1596      7/31/2019 23:55        8/1/2019 0:22   \n356641       588      7/31/2019 23:56        8/1/2019 0:05   \n356642       737      7/31/2019 23:57        8/1/2019 0:10   \n356643       359      7/31/2019 23:57        8/1/2019 0:03   \n356644       513      7/31/2019 23:59        8/1/2019 0:08   \n\n        Start station number                  Start station  \\\n0                      31127                 22nd & H St NW   \n1                      31641  2nd St & Massachusetts Ave NE   \n2                      31255                 24th & N St NW   \n3                      31655       New Jersey Ave & F St NW   \n4                      31203     14th & Rhode Island Ave NW   \n...                      ...                            ...   \n356640                 31249             Jefferson Memorial   \n356641                 31104    Adams Mill & Columbia Rd NW   \n356642                 31115   Columbia Rd & Georgia Ave NW   \n356643                 31117           15th & Euclid St  NW   \n356644                 31516         Rhode Island Ave Metro   \n\n        End station number                        End station Bike number  \\\n0                    31202                     14th & R St NW      W00233   \n1                    31603                      1st & M St NE      W00555   \n2                    31237      25th St & Pennsylvania Ave NW      W23383   \n3                    31244                      4th & E St SW      W20337   \n4                    31223  Convention Center / 7th & M St NW      W23707   \n...                    ...                                ...         ...   \n356640               31290      17th St & Independence Ave SW       78598   \n356641               31128                     23rd & M St NW      W24040   \n356642               31267     17th St & Massachusetts Ave NW      W23142   \n356643               31282                     16th & R St NW      W22184   \n356644               31510      18th St & Rhode Island Ave NE      W22855   \n\n       Member type  \n0           Member  \n1           Member  \n2           Member  \n3           Member  \n4           Member  \n...            ...  \n356640      Member  \n356641      Member  \n356642      Member  \n356643      Member  \n356644      Member  \n\n[1044493 rows x 9 columns]",
      "text/html": "<div>\n<style scoped>\n    .dataframe tbody tr th:only-of-type {\n        vertical-align: middle;\n    }\n\n    .dataframe tbody tr th {\n        vertical-align: top;\n    }\n\n    .dataframe thead th {\n        text-align: right;\n    }\n</style>\n<table border=\"1\" class=\"dataframe\">\n  <thead>\n    <tr style=\"text-align: right;\">\n      <th></th>\n      <th>Duration</th>\n      <th>Start date</th>\n      <th>End date</th>\n      <th>Start station number</th>\n      <th>Start station</th>\n      <th>End station number</th>\n      <th>End station</th>\n      <th>Bike number</th>\n      <th>Member type</th>\n    </tr>\n  </thead>\n  <tbody>\n    <tr>\n      <td>0</td>\n      <td>653</td>\n      <td>2019-05-01 00:00:02</td>\n      <td>2019-05-01 00:10:55</td>\n      <td>31127</td>\n      <td>22nd &amp; H St NW</td>\n      <td>31202</td>\n      <td>14th &amp; R St NW</td>\n      <td>W00233</td>\n      <td>Member</td>\n    </tr>\n    <tr>\n      <td>1</td>\n      <td>297</td>\n      <td>2019-05-01 00:00:13</td>\n      <td>2019-05-01 00:05:11</td>\n      <td>31641</td>\n      <td>2nd St &amp; Massachusetts Ave NE</td>\n      <td>31603</td>\n      <td>1st &amp; M St NE</td>\n      <td>W00555</td>\n      <td>Member</td>\n    </tr>\n    <tr>\n      <td>2</td>\n      <td>129</td>\n      <td>2019-05-01 00:00:36</td>\n      <td>2019-05-01 00:02:46</td>\n      <td>31255</td>\n      <td>24th &amp; N St NW</td>\n      <td>31237</td>\n      <td>25th St &amp; Pennsylvania Ave NW</td>\n      <td>W23383</td>\n      <td>Member</td>\n    </tr>\n    <tr>\n      <td>3</td>\n      <td>1119</td>\n      <td>2019-05-01 00:01:08</td>\n      <td>2019-05-01 00:19:48</td>\n      <td>31655</td>\n      <td>New Jersey Ave &amp; F St NW</td>\n      <td>31244</td>\n      <td>4th &amp; E St SW</td>\n      <td>W20337</td>\n      <td>Member</td>\n    </tr>\n    <tr>\n      <td>4</td>\n      <td>533</td>\n      <td>2019-05-01 00:01:20</td>\n      <td>2019-05-01 00:10:13</td>\n      <td>31203</td>\n      <td>14th &amp; Rhode Island Ave NW</td>\n      <td>31223</td>\n      <td>Convention Center / 7th &amp; M St NW</td>\n      <td>W23707</td>\n      <td>Member</td>\n    </tr>\n    <tr>\n      <td>...</td>\n      <td>...</td>\n      <td>...</td>\n      <td>...</td>\n      <td>...</td>\n      <td>...</td>\n      <td>...</td>\n      <td>...</td>\n      <td>...</td>\n      <td>...</td>\n    </tr>\n    <tr>\n      <td>356640</td>\n      <td>1596</td>\n      <td>7/31/2019 23:55</td>\n      <td>8/1/2019 0:22</td>\n      <td>31249</td>\n      <td>Jefferson Memorial</td>\n      <td>31290</td>\n      <td>17th St &amp; Independence Ave SW</td>\n      <td>78598</td>\n      <td>Member</td>\n    </tr>\n    <tr>\n      <td>356641</td>\n      <td>588</td>\n      <td>7/31/2019 23:56</td>\n      <td>8/1/2019 0:05</td>\n      <td>31104</td>\n      <td>Adams Mill &amp; Columbia Rd NW</td>\n      <td>31128</td>\n      <td>23rd &amp; M St NW</td>\n      <td>W24040</td>\n      <td>Member</td>\n    </tr>\n    <tr>\n      <td>356642</td>\n      <td>737</td>\n      <td>7/31/2019 23:57</td>\n      <td>8/1/2019 0:10</td>\n      <td>31115</td>\n      <td>Columbia Rd &amp; Georgia Ave NW</td>\n      <td>31267</td>\n      <td>17th St &amp; Massachusetts Ave NW</td>\n      <td>W23142</td>\n      <td>Member</td>\n    </tr>\n    <tr>\n      <td>356643</td>\n      <td>359</td>\n      <td>7/31/2019 23:57</td>\n      <td>8/1/2019 0:03</td>\n      <td>31117</td>\n      <td>15th &amp; Euclid St  NW</td>\n      <td>31282</td>\n      <td>16th &amp; R St NW</td>\n      <td>W22184</td>\n      <td>Member</td>\n    </tr>\n    <tr>\n      <td>356644</td>\n      <td>513</td>\n      <td>7/31/2019 23:59</td>\n      <td>8/1/2019 0:08</td>\n      <td>31516</td>\n      <td>Rhode Island Ave Metro</td>\n      <td>31510</td>\n      <td>18th St &amp; Rhode Island Ave NE</td>\n      <td>W22855</td>\n      <td>Member</td>\n    </tr>\n  </tbody>\n</table>\n<p>1044493 rows × 9 columns</p>\n</div>"
     },
     "metadata": {},
     "execution_count": 33
    }
   ],
   "source": [
    "#DC Bike Share 3 Month May-Jul 2019\n",
    "Data_BikeShare_DC = glob.glob(\"./Data/DC/*.csv\") \n",
    "DC_df = pd.concat((pd.read_csv(f, header = 0) for f in Data_BikeShare_DC))\n",
    "DC_df"
   ]
  },
  {
   "cell_type": "code",
   "execution_count": 29,
   "metadata": {},
   "outputs": [
    {
     "output_type": "execute_result",
     "data": {
      "text/plain": "      index CRASH DATE   LATITUDE  LONGITUDE                 LOCATION  \\\n0         4   5/1/2019  40.789474 -73.957400    (40.789474, -73.9574)   \n1        13   5/1/2019  40.743824 -73.987915  (40.743824, -73.987915)   \n2       154   5/1/2019  40.763428 -73.992710   (40.763428, -73.99271)   \n3       243   5/1/2019  40.846893 -73.920550   (40.846893, -73.92055)   \n4       257   5/1/2019  40.747660 -73.993040    (40.74766, -73.99304)   \n...     ...        ...        ...        ...                      ...   \n1587  57299  7/31/2019  40.680088 -73.943980   (40.680088, -73.94398)   \n1588  57301  7/31/2019  40.662384 -73.920044  (40.662384, -73.920044)   \n1589  57351  7/31/2019  40.693750 -73.937200     (40.69375, -73.9372)   \n1590  57480  7/31/2019  40.700504 -73.899765  (40.700504, -73.899765)   \n1591  57493  7/31/2019  40.762737 -73.959700    (40.762737, -73.9597)   \n\n      NUMBER OF CYCLIST INJURED  \n0                             1  \n1                             1  \n2                             1  \n3                             1  \n4                             1  \n...                         ...  \n1587                          1  \n1588                          1  \n1589                          1  \n1590                          1  \n1591                          1  \n\n[1592 rows x 6 columns]",
      "text/html": "<div>\n<style scoped>\n    .dataframe tbody tr th:only-of-type {\n        vertical-align: middle;\n    }\n\n    .dataframe tbody tr th {\n        vertical-align: top;\n    }\n\n    .dataframe thead th {\n        text-align: right;\n    }\n</style>\n<table border=\"1\" class=\"dataframe\">\n  <thead>\n    <tr style=\"text-align: right;\">\n      <th></th>\n      <th>index</th>\n      <th>CRASH DATE</th>\n      <th>LATITUDE</th>\n      <th>LONGITUDE</th>\n      <th>LOCATION</th>\n      <th>NUMBER OF CYCLIST INJURED</th>\n    </tr>\n  </thead>\n  <tbody>\n    <tr>\n      <td>0</td>\n      <td>4</td>\n      <td>5/1/2019</td>\n      <td>40.789474</td>\n      <td>-73.957400</td>\n      <td>(40.789474, -73.9574)</td>\n      <td>1</td>\n    </tr>\n    <tr>\n      <td>1</td>\n      <td>13</td>\n      <td>5/1/2019</td>\n      <td>40.743824</td>\n      <td>-73.987915</td>\n      <td>(40.743824, -73.987915)</td>\n      <td>1</td>\n    </tr>\n    <tr>\n      <td>2</td>\n      <td>154</td>\n      <td>5/1/2019</td>\n      <td>40.763428</td>\n      <td>-73.992710</td>\n      <td>(40.763428, -73.99271)</td>\n      <td>1</td>\n    </tr>\n    <tr>\n      <td>3</td>\n      <td>243</td>\n      <td>5/1/2019</td>\n      <td>40.846893</td>\n      <td>-73.920550</td>\n      <td>(40.846893, -73.92055)</td>\n      <td>1</td>\n    </tr>\n    <tr>\n      <td>4</td>\n      <td>257</td>\n      <td>5/1/2019</td>\n      <td>40.747660</td>\n      <td>-73.993040</td>\n      <td>(40.74766, -73.99304)</td>\n      <td>1</td>\n    </tr>\n    <tr>\n      <td>...</td>\n      <td>...</td>\n      <td>...</td>\n      <td>...</td>\n      <td>...</td>\n      <td>...</td>\n      <td>...</td>\n    </tr>\n    <tr>\n      <td>1587</td>\n      <td>57299</td>\n      <td>7/31/2019</td>\n      <td>40.680088</td>\n      <td>-73.943980</td>\n      <td>(40.680088, -73.94398)</td>\n      <td>1</td>\n    </tr>\n    <tr>\n      <td>1588</td>\n      <td>57301</td>\n      <td>7/31/2019</td>\n      <td>40.662384</td>\n      <td>-73.920044</td>\n      <td>(40.662384, -73.920044)</td>\n      <td>1</td>\n    </tr>\n    <tr>\n      <td>1589</td>\n      <td>57351</td>\n      <td>7/31/2019</td>\n      <td>40.693750</td>\n      <td>-73.937200</td>\n      <td>(40.69375, -73.9372)</td>\n      <td>1</td>\n    </tr>\n    <tr>\n      <td>1590</td>\n      <td>57480</td>\n      <td>7/31/2019</td>\n      <td>40.700504</td>\n      <td>-73.899765</td>\n      <td>(40.700504, -73.899765)</td>\n      <td>1</td>\n    </tr>\n    <tr>\n      <td>1591</td>\n      <td>57493</td>\n      <td>7/31/2019</td>\n      <td>40.762737</td>\n      <td>-73.959700</td>\n      <td>(40.762737, -73.9597)</td>\n      <td>1</td>\n    </tr>\n  </tbody>\n</table>\n<p>1592 rows × 6 columns</p>\n</div>"
     },
     "metadata": {},
     "execution_count": 29
    }
   ],
   "source": [
    "#NY Bike Accidents 3 Month May-Jul 2019\n",
    "Accidents_raw_NY = pd.read_csv(\"./Data/Accidents/Motor_Vehicle_Collisions_Crashes.csv\")\n",
    "Accidents_NY=Accidents_raw_NY['NUMBER OF CYCLIST INJURED']!=0\n",
    "Accidents_NY_cln=Accidents_raw_NY[Accidents_NY]\n",
    "\n",
    "Accidents_NY_df=pd.DataFrame({ 'CRASH DATE': Accidents_NY_cln['CRASH DATE'],\n",
    "                                'LATITUDE': Accidents_NY_cln['LATITUDE'],\n",
    "                                'LONGITUDE': Accidents_NY_cln['LONGITUDE'],\n",
    "                                'LOCATION': Accidents_NY_cln['LOCATION'],\n",
    "                                'NUMBER OF CYCLIST INJURED': Accidents_NY_cln['NUMBER OF CYCLIST INJURED'],\n",
    "                                }).reset_index()\n",
    "\n",
    "Accidents_NY_df"
   ]
  },
  {
   "cell_type": "code",
   "execution_count": 41,
   "metadata": {},
   "outputs": [],
   "source": [
    "NY_df.to_csv('./Data/2019_May_Jul_citibikenyc_tripdata.csv', index_label = \"TripID\")\n",
    "DC_df.to_csv('./Data/2019_May_Jul_BikeShareDC_tripdata.csv', index_label = \"TripID\")\n",
    "Accidents_NY_df.to_csv('./Data/2019_May_Jul_BikeAccidentsNY.csv', index_label = \"AccidentID\")"
   ]
  },
  {
   "cell_type": "code",
   "execution_count": null,
   "metadata": {},
   "outputs": [],
   "source": []
  }
 ],
 "metadata": {
  "language_info": {
   "codemirror_mode": {
    "name": "ipython",
    "version": 3
   },
   "file_extension": ".py",
   "mimetype": "text/x-python",
   "name": "python",
   "nbconvert_exporter": "python",
   "pygments_lexer": "ipython3",
   "version": "3.7.4-final"
  },
  "orig_nbformat": 2,
  "kernelspec": {
   "name": "python3",
   "display_name": "Python 3"
  }
 },
 "nbformat": 4,
 "nbformat_minor": 2
}